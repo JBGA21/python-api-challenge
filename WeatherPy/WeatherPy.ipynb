{
 "cells": [
  {
   "cell_type": "code",
   "execution_count": 1,
   "metadata": {},
   "outputs": [],
   "source": [
    "# Import dependencies \n",
    "import matplotlib.pyplot as plt\n",
    "import seaborn as sns\n",
    "import pandas as pd\n",
    "import numpy as np\n",
    "import requests\n",
    "import time \n",
    "import json\n",
    "from scipy.stats import linregress\n",
    "\n",
    "# Incorporated citipy to determine city based on latitude and longitude\n",
    "from citipy import citipy\n",
    "\n",
    "# Import API key\n",
    "from config import api_key"
   ]
  },
  {
   "cell_type": "code",
   "execution_count": 2,
   "metadata": {},
   "outputs": [],
   "source": [
    "# Range of latitudes and longitudes \n",
    "lat_range = (-90, 90)\n",
    "lng_range = (-180, 180)"
   ]
  },
  {
   "cell_type": "markdown",
   "metadata": {},
   "source": [
    "## Generate Cities List"
   ]
  },
  {
   "cell_type": "code",
   "execution_count": 3,
   "metadata": {},
   "outputs": [
    {
     "data": {
      "text/plain": [
       "629"
      ]
     },
     "execution_count": 3,
     "metadata": {},
     "output_type": "execute_result"
    }
   ],
   "source": [
    "# List for hold lat_lngs and cities \n",
    "lat_lngs = []\n",
    "cities = []\n",
    "\n",
    "# Create a set of random lat and lng combinations \n",
    "lats = np.random.uniform(lat_range[0], lat_range[1], size=1500)\n",
    "lngs = np.random.uniform(lng_range[0], lng_range[1], size=1500)\n",
    "lat_lngs = zip(lats, lngs)\n",
    "\n",
    "# Identify nearest city for each lat, lng combination\n",
    "for lat_lng in lat_lngs:\n",
    "    city = citipy.nearest_city(lat_lng[0], lat_lng[1]).city_name\n",
    "    \n",
    "    # If the city is unique, then add it to a our cities list\n",
    "    if city not in cities:\n",
    "        cities.append(city)\n",
    "        \n",
    "# Print the city count to confirm sufficient count\n",
    "len(cities)"
   ]
  },
  {
   "cell_type": "markdown",
   "metadata": {},
   "source": [
    "## Perform API Calls\n",
    "- Perform a weather check on each city using a series of successive API calls.\n",
    "\n",
    "- Include a print log of each city as it'sbeing processed (with the city number and city name).\n"
   ]
  },
  {
   "cell_type": "code",
   "execution_count": 4,
   "metadata": {},
   "outputs": [],
   "source": [
    "# Set url for API\n",
    "url = 'http://api.openweathermap.org/data/2.5/weather?'\n",
    "units = 'metric'\n",
    "\n",
    "# Build partial query URL\n",
    "query_url = f\"{url}appid={api_key}&units={units}&q=\""
   ]
  },
  {
   "cell_type": "code",
   "execution_count": 5,
   "metadata": {},
   "outputs": [
    {
     "name": "stdout",
     "output_type": "stream",
     "text": [
      "{\n",
      "  \"coord\": {\n",
      "    \"lon\": 121.4581,\n",
      "    \"lat\": 31.2222\n",
      "  },\n",
      "  \"weather\": [\n",
      "    {\n",
      "      \"id\": 802,\n",
      "      \"main\": \"Clouds\",\n",
      "      \"description\": \"scattered clouds\",\n",
      "      \"icon\": \"03n\"\n",
      "    }\n",
      "  ],\n",
      "  \"base\": \"stations\",\n",
      "  \"main\": {\n",
      "    \"temp\": 6.14,\n",
      "    \"feels_like\": -0.74,\n",
      "    \"temp_min\": 5.56,\n",
      "    \"temp_max\": 6.67,\n",
      "    \"pressure\": 1025,\n",
      "    \"humidity\": 65\n",
      "  },\n",
      "  \"visibility\": 10000,\n",
      "  \"wind\": {\n",
      "    \"speed\": 7,\n",
      "    \"deg\": 40\n",
      "  },\n",
      "  \"clouds\": {\n",
      "    \"all\": 40\n",
      "  },\n",
      "  \"dt\": 1613497081,\n",
      "  \"sys\": {\n",
      "    \"type\": 1,\n",
      "    \"id\": 9659,\n",
      "    \"country\": \"CN\",\n",
      "    \"sunrise\": 1613514841,\n",
      "    \"sunset\": 1613554959\n",
      "  },\n",
      "  \"timezone\": 28800,\n",
      "  \"id\": 1796236,\n",
      "  \"name\": \"Shanghai\",\n",
      "  \"cod\": 200\n",
      "}\n"
     ]
    }
   ],
   "source": [
    "# API reference for structure\n",
    "response = requests.get(query_url + 'Shanghai')\n",
    "data = response.json()\n",
    "print(json.dumps(data, indent=2))"
   ]
  },
  {
   "cell_type": "code",
   "execution_count": null,
   "metadata": {},
   "outputs": [
    {
     "name": "stdout",
     "output_type": "stream",
     "text": [
      "Beginning Data Retrieval \n",
      " ---------------------------\n",
      "City not found. Skipping...\n",
      "Processing Record 1 of Set added| busselton \n",
      "Processing Record 2 of Set added| vaini \n",
      "Processing Record 3 of Set added| khatanga \n",
      "Processing Record 4 of Set added| nhulunbuy \n",
      "Processing Record 5 of Set added| jamestown \n",
      "Processing Record 6 of Set added| saint-francois \n",
      "Processing Record 7 of Set added| vestmannaeyjar \n",
      "Processing Record 8 of Set added| nouadhibou \n",
      "Processing Record 9 of Set added| punta arenas \n",
      "Processing Record 10 of Set added| sitka \n",
      "Processing Record 11 of Set added| bluff \n",
      "Processing Record 12 of Set added| mataura \n",
      "Processing Record 13 of Set added| dikson \n",
      "Processing Record 14 of Set added| arraial do cabo \n",
      "Processing Record 15 of Set added| nikolskoye \n",
      "Processing Record 16 of Set added| garowe \n",
      "Processing Record 17 of Set added| rikitea \n",
      "Processing Record 18 of Set added| barrow \n",
      "Processing Record 19 of Set added| san patricio \n",
      "Processing Record 20 of Set added| hermanus \n",
      "Processing Record 21 of Set added| chimbote \n",
      "Processing Record 22 of Set added| kaitangata \n",
      "Processing Record 23 of Set added| port alfred \n",
      "Processing Record 24 of Set added| eureka \n",
      "Processing Record 25 of Set added| sokoni \n",
      "Processing Record 26 of Set added| tiksi \n"
     ]
    }
   ],
   "source": [
    "# Set empty lists to hold latitude, longitude and temperature\n",
    "lat = []\n",
    "lon = []\n",
    "tmp = []\n",
    "record = 0\n",
    "# Loop through each city\n",
    "print(\"Beginning Data Retrieval \\n---------------------------\")\n",
    "for city in cities:\n",
    "    # Create search query, make request and sotre in json\n",
    "    url = query_url + city\n",
    "    response = requests.get(url)\n",
    "    data= response.json()\n",
    "    \n",
    "    # Try to grab the latitude, longitude and temperature \n",
    "    try:\n",
    "        lat.append(data['coord']['lat'])\n",
    "        lon.append(data['coord']['lon'])\n",
    "        tmp.append(data['main']['temp'])\n",
    "        record += 1\n",
    "        if record > 49:\n",
    "            record = 0\n",
    "        print(f\"Processing Record {record} of Set added| {city} \")\n",
    "    # Handle exceptions for a city that is not available in the API\n",
    "    except:\n",
    "        print(f\"City not found. Skipping...\")\n",
    "        pass\n",
    "    \n",
    "print(\"---------------------------\\n Data Retrieval Complete \\n---------------------------\")"
   ]
  },
  {
   "cell_type": "code",
   "execution_count": null,
   "metadata": {},
   "outputs": [],
   "source": [
    "df = pd.DataFrame({'latitude': lat,\n",
    "                  'longitude':lon,\n",
    "                  'temp': tmp})\n",
    "df.shape"
   ]
  },
  {
   "cell_type": "markdown",
   "metadata": {},
   "source": [
    "The first requirement is to create a series of scatter plots to showcase the following relationships:\n",
    "\n",
    "- Temperature (F) vs. Latitude\n",
    "\n",
    "- Humidity (%) vs. Latitude\n",
    "\n",
    "- Cloudiness (%) vs. Latitude\n",
    "\n",
    "- Wind Speed (mph) vs. Latitude\n",
    "\n"
   ]
  },
  {
   "cell_type": "code",
   "execution_count": null,
   "metadata": {},
   "outputs": [],
   "source": []
  }
 ],
 "metadata": {
  "kernelspec": {
   "display_name": "Python 3",
   "language": "python",
   "name": "python3"
  },
  "language_info": {
   "codemirror_mode": {
    "name": "ipython",
    "version": 3
   },
   "file_extension": ".py",
   "mimetype": "text/x-python",
   "name": "python",
   "nbconvert_exporter": "python",
   "pygments_lexer": "ipython3",
   "version": "3.8.5"
  }
 },
 "nbformat": 4,
 "nbformat_minor": 4
}
